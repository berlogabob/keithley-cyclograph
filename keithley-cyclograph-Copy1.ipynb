{
 "cells": [
  {
   "cell_type": "code",
   "execution_count": 9,
   "metadata": {
    "collapsed": true
   },
   "outputs": [],
   "source": [
    "# -*- coding: utf-8 -*-\n",
    "import pandas as pd\n",
    "import matplotlib.pyplot as plt\n",
    "import numpy as np"
   ]
  },
  {
   "cell_type": "code",
   "execution_count": 10,
   "metadata": {
    "collapsed": true
   },
   "outputs": [],
   "source": [
    "file_to_read = \"none\"\n",
    "file_to_read_extension = \".csv\"\n",
    "file_to_write_extension = \".csv\""
   ]
  },
  {
   "cell_type": "code",
   "execution_count": 11,
   "metadata": {
    "collapsed": true,
    "scrolled": true
   },
   "outputs": [],
   "source": [
    "hello_msg = \"Здравствуйте. Данная программа предназначена для построения циклограмм по данным, полученным с помощью прибора Keithley 2400. Результатом обработки является график Вольт-Амперной характеристики, в котором красным цветом обозначена восходящая, а синим - нисходящая ветви данных. \\n  Программа читает данные из исходного файла, создает вспомогательный файл с приведенными в соответствие с требованиями вычислительной библиотеки данными. По завершению работы в том же каталоге будут сформированы файлы с расширениями png и pdf с аннотациями на русском и английском языках, (разные файлы в названии содержится суффикс \"\"rus\"\" и \"\"eng\"\")имеющих разрешение 300 dpi и пригодных к публикации в журналах.\""
   ]
  },
  {
   "cell_type": "code",
   "execution_count": 14,
   "metadata": {
    "collapsed": true
   },
   "outputs": [],
   "source": [
    "def user_input():\n",
    "    print hello_msg\n",
    "    global file_to_read\n",
    "    #\n",
    "    file_to_read = raw_input(\" Введите назваие файла, содержашиего данные для построения Вольт-Аамперной циклограммы\\n Название файла вводиться без разширения\\n -> \")\n",
    "    file_name = file_to_read + file_to_read_extension\n",
    "    file_name_edited = file_to_read + \"_edited\" + file_to_write_extension\n",
    "    #\n",
    "    s = open(file_name).read()#прочитали исходный файл\n",
    "    s = s.replace(',', '.')#меняем запятую на точкуу\n",
    "    #s = s.replace(';', '\\t')#\n",
    "    #\n",
    "    f = open(file_name_edited, 'w')#открыли файл (создали)\n",
    "    f.write(s)#записали\n",
    "    f.close()#закрыли\n",
    "    #\n",
    "    frame = pd.read_csv(file_name_edited, sep = \";\")\n",
    "    allarray = np.array(frame)    \n",
    "    \n",
    "    new_frame = allarray\n",
    "    new_frame = np.delete(new_frame, 5,1)\n",
    "    #print new_frame\n",
    "    frame = new_frame\n",
    "    #print frame\n",
    "    #Smu1_Item = frame[:,[0]]\n",
    "    Smu1_Item = frame[:,[0]]\n",
    "    Smu1_V = frame[:,[1]]\n",
    "    Smu1_I = frame[:,[2]]\n",
    "    Smu1_R = frame[:,[3]]\n",
    "    smu1_Time = frame[:,[4]]\n",
    "\n",
    "    break_point = 151\n",
    "    # this 2 lines read from file\n",
    "    #first_part_V = frame[:break_point,[1]]\n",
    "    #second_part_V = frame[break_point-1:,[1]]\n",
    "    # this 2 is \"standart\" volts list\n",
    "    first_part_V = [-0.75 ,-0.74 ,-0.73 ,-0.72 ,-0.71 ,-0.7 ,-0.69 ,-0.68 ,-0.67 ,-0.66 ,-0.65 ,-0.64 ,-0.63 ,-0.62 ,-0.61 ,-0.6 ,-0.59 ,-0.58 ,-0.57 ,-0.56 ,-0.55 ,-0.54 ,-0.53 ,-0.52 ,-0.51 ,-0.5 ,-0.49 ,-0.48 ,-0.47 ,-0.46 ,-0.45 ,-0.44 ,-0.43 ,-0.42 ,-0.41 ,-0.4 ,-0.39 ,-0.38 ,-0.37 ,-0.36 ,-0.35 ,-0.34 ,-0.33 ,-0.32 ,-0.31 ,-0.3 ,-0.29 ,-0.28 ,-0.27 ,-0.26 ,-0.25 ,-0.24 ,-0.23 ,-0.22 ,-0.21 ,-0.2 ,-0.19 ,-0.18 ,-0.17 ,-0.16 ,-0.15 ,-0.14 ,-0.13 ,-0.12 ,-0.11 ,-0.1 ,-0.09 ,-0.08 ,-0.07 ,-0.06 ,-0.05 ,-0.04 ,-0.03 ,-0.02 ,-0.01 ,0 ,0.01 ,0.02 ,0.03 ,0.04 ,0.05 ,0.06 ,0.07 ,0.08 ,0.09 ,0.1 ,0.11 ,0.12 ,0.13 ,0.14 ,0.15 ,0.16 ,0.17 ,0.18 ,0.19 ,0.2 ,0.21 ,0.22 ,0.23 ,0.24 ,0.25 ,0.26 ,0.27 ,0.28 ,0.29 ,0.3 ,0.31 ,0.32 ,0.33 ,0.34 ,0.35 ,0.36 ,0.37 ,0.38 ,0.39 ,0.4 ,0.41 ,0.42 ,0.43 ,0.44 ,0.45 ,0.46 ,0.47 ,0.48 ,0.49 ,0.5 ,0.51 ,0.52 ,0.53 ,0.54 ,0.55 ,0.56 ,0.57 ,0.58 ,0.59 ,0.6 ,0.61 ,0.62 ,0.63 ,0.64 ,0.65 ,0.66 ,0.67 ,0.68 ,0.69 ,0.7 ,0.71 ,0.72 ,0.73 ,0.74 ,0.75]\n",
    "    second_part_V = [0.75, 0.74, 0.73, 0.72, 0.71, 0.7, 0.69, 0.68, 0.67, 0.66, 0.65, 0.64, 0.63, 0.62, 0.61, 0.6, 0.59, 0.58, 0.57, 0.56, 0.55, 0.54, 0.53, 0.52, 0.51, 0.5, 0.49, 0.48, 0.47, 0.46, 0.45, 0.44, 0.43, 0.42, 0.41, 0.4, 0.39, 0.38, 0.37, 0.36, 0.35, 0.34, 0.33, 0.32, 0.31, 0.3, 0.29, 0.28, 0.27, 0.26, 0.25, 0.24, 0.23, 0.22, 0.21, 0.2, 0.19, 0.18, 0.17, 0.16, 0.15, 0.14, 0.13, 0.12, 0.11, 0.1, 0.09, 0.08, 0.07, 0.06, 0.05, 0.04, 0.03, 0.02, 0.01, 0, -0.01, -0.02, -0.03, -0.04, -0.05, -0.06, -0.07, -0.08, -0.09, -0.1, -0.11, -0.12, -0.13, -0.14, -0.15, -0.16, -0.17, -0.18, -0.19, -0.2, -0.21, -0.22, -0.23, -0.24, -0.25, -0.26, -0.27, -0.28, -0.29, -0.3, -0.31, -0.32, -0.33, -0.34, -0.35, -0.36, -0.37, -0.38, -0.39, -0.4, -0.41, -0.42, -0.43, -0.44, -0.45, -0.46, -0.47, -0.48, -0.49, -0.5, -0.51, -0.52, -0.53, -0.54, -0.55, -0.56, -0.57, -0.58, -0.59, -0.6, -0.61, -0.62, -0.63, -0.64, -0.65, -0.66, -0.67, -0.68, -0.69, -0.7, -0.71, -0.72, -0.73, -0.74, -0.75]\n",
    "    \n",
    "    first_part_I = frame[:break_point,[2]]\n",
    "    second_part_I = frame[break_point-1:,[2]]\n",
    "    \n",
    "    first_part_Item = frame[:break_point,[0]]\n",
    "    second_part_Item = frame[break_point-1:,[0]]\n",
    "    #print second_part_Item\n",
    "    #\n",
    "    plt.figure(num = 1, dpi= 300)\n",
    "    plt.plot(first_part_V, first_part_I, \"r\")\n",
    "    plt.plot(second_part_V, second_part_I, \"b\")\n",
    "    plt.xlabel('Voltage, mV')\n",
    "    plt.ylabel('Current, mA')\n",
    "    plt.title(u'voltage – current cyclogram', fontsize=12)\n",
    "    plt.grid(True)\n",
    "    #вывод\n",
    "    plt.draw()\n",
    "    plt.figure(1).savefig(file_to_read + \"VAC\" + '_eng' + '.pdf')\n",
    "    plt.figure(1).savefig(file_to_read + \"VAC\"  + '_eng' + '.png')\n",
    "    plt.clf()\n",
    "    #plt.show()\n",
    "    \n",
    "    plt.figure(num = 1, dpi= 300)\n",
    "    plt.plot(first_part_V, first_part_I, \"r\")\n",
    "    plt.plot(second_part_V, second_part_I, \"b\")\n",
    "    plt.xlabel(u'Вольты, mV')\n",
    "    plt.ylabel(u'Амперы, mA')\n",
    "    plt.title(u'Вольт – амперная характеристика', fontsize=12)\n",
    "    plt.grid(True)\n",
    "    \n",
    "    ax = plt.figure.add_subplot(111)\n",
    "    ax.annotate('local max', xy=(2, 1), xytext=(3, 1.5), arrowprops=dict(facecolor='black', shrink=0.05),)\n",
    "    \n",
    "    \n",
    "    #вывод\n",
    "    plt.draw()\n",
    "    plt.figure(1).savefig(file_to_read + \"VAC\"  + '_rus' + '.pdf')\n",
    "    plt.figure(1).savefig(file_to_read + \"VAC\"  + '_rus' + '.png')\n",
    "    "
   ]
  },
  {
   "cell_type": "code",
   "execution_count": 15,
   "metadata": {
    "scrolled": false
   },
   "outputs": [
    {
     "name": "stdout",
     "output_type": "stream",
     "text": [
      "Здравствуйте. Данная программа предназначена для построения циклограмм по данным, полученным с помощью прибора Keithley 2400. Результатом обработки является график Вольт-Амперной характеристики, в котором красным цветом обозначена восходящая, а синим - нисходящая ветви данных. \n",
      "  Программа читает данные из исходного файла, создает вспомогательный файл с приведенными в соответствие с требованиями вычислительной библиотеки данными. По завершению работы в том же каталоге будут сформированы файлы с расширениями png и pdf с аннотациями на русском и английском языках, (разные файлы в названии содержится суффикс rus и eng)имеющих разрешение 300 dpi и пригодных к публикации в журналах.\n",
      " Введите назваие файла, содержашиего данные для построения Вольт-Аамперной циклограммы\n",
      " Название файла вводиться без разширения\n",
      " -> 20171024-3\n"
     ]
    },
    {
     "ename": "AttributeError",
     "evalue": "'function' object has no attribute 'add_subplot'",
     "output_type": "error",
     "traceback": [
      "\u001b[0;31m---------------------------------------------------------------------------\u001b[0m",
      "\u001b[0;31mAttributeError\u001b[0m                            Traceback (most recent call last)",
      "\u001b[0;32m<ipython-input-15-a0a4ac54b0d0>\u001b[0m in \u001b[0;36m<module>\u001b[0;34m()\u001b[0m\n\u001b[0;32m----> 1\u001b[0;31m \u001b[0muser_input\u001b[0m\u001b[0;34m(\u001b[0m\u001b[0;34m)\u001b[0m\u001b[0;34m\u001b[0m\u001b[0m\n\u001b[0m",
      "\u001b[0;32m<ipython-input-14-f92f1ef33529>\u001b[0m in \u001b[0;36muser_input\u001b[0;34m()\u001b[0m\n\u001b[1;32m     67\u001b[0m     \u001b[0mplt\u001b[0m\u001b[0;34m.\u001b[0m\u001b[0mgrid\u001b[0m\u001b[0;34m(\u001b[0m\u001b[0mTrue\u001b[0m\u001b[0;34m)\u001b[0m\u001b[0;34m\u001b[0m\u001b[0m\n\u001b[1;32m     68\u001b[0m \u001b[0;34m\u001b[0m\u001b[0m\n\u001b[0;32m---> 69\u001b[0;31m     \u001b[0max\u001b[0m \u001b[0;34m=\u001b[0m \u001b[0mplt\u001b[0m\u001b[0;34m.\u001b[0m\u001b[0mfigure\u001b[0m\u001b[0;34m.\u001b[0m\u001b[0madd_subplot\u001b[0m\u001b[0;34m(\u001b[0m\u001b[0;36m111\u001b[0m\u001b[0;34m)\u001b[0m\u001b[0;34m\u001b[0m\u001b[0m\n\u001b[0m\u001b[1;32m     70\u001b[0m     \u001b[0max\u001b[0m\u001b[0;34m.\u001b[0m\u001b[0mannotate\u001b[0m\u001b[0;34m(\u001b[0m\u001b[0;34m'local max'\u001b[0m\u001b[0;34m,\u001b[0m \u001b[0mxy\u001b[0m\u001b[0;34m=\u001b[0m\u001b[0;34m(\u001b[0m\u001b[0;36m2\u001b[0m\u001b[0;34m,\u001b[0m \u001b[0;36m1\u001b[0m\u001b[0;34m)\u001b[0m\u001b[0;34m,\u001b[0m \u001b[0mxytext\u001b[0m\u001b[0;34m=\u001b[0m\u001b[0;34m(\u001b[0m\u001b[0;36m3\u001b[0m\u001b[0;34m,\u001b[0m \u001b[0;36m1.5\u001b[0m\u001b[0;34m)\u001b[0m\u001b[0;34m,\u001b[0m \u001b[0marrowprops\u001b[0m\u001b[0;34m=\u001b[0m\u001b[0mdict\u001b[0m\u001b[0;34m(\u001b[0m\u001b[0mfacecolor\u001b[0m\u001b[0;34m=\u001b[0m\u001b[0;34m'black'\u001b[0m\u001b[0;34m,\u001b[0m \u001b[0mshrink\u001b[0m\u001b[0;34m=\u001b[0m\u001b[0;36m0.05\u001b[0m\u001b[0;34m)\u001b[0m\u001b[0;34m,\u001b[0m\u001b[0;34m)\u001b[0m\u001b[0;34m\u001b[0m\u001b[0m\n\u001b[1;32m     71\u001b[0m \u001b[0;34m\u001b[0m\u001b[0m\n",
      "\u001b[0;31mAttributeError\u001b[0m: 'function' object has no attribute 'add_subplot'"
     ]
    }
   ],
   "source": [
    "user_input()"
   ]
  }
 ],
 "metadata": {
  "kernelspec": {
   "display_name": "Python 2",
   "language": "python",
   "name": "python2"
  },
  "language_info": {
   "codemirror_mode": {
    "name": "ipython",
    "version": 2
   },
   "file_extension": ".py",
   "mimetype": "text/x-python",
   "name": "python",
   "nbconvert_exporter": "python",
   "pygments_lexer": "ipython2",
   "version": "2.7.14"
  }
 },
 "nbformat": 4,
 "nbformat_minor": 2
}
